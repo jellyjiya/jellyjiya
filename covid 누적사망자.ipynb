{
 "cells": [
  {
   "cell_type": "markdown",
   "metadata": {},
   "source": [
    " #### 한국,중국,일본,타이완 누적사망자"
   ]
  },
  {
   "cell_type": "code",
   "execution_count": 32,
   "metadata": {},
   "outputs": [],
   "source": [
    "with open('owid-covid-data.csv', 'rt') as f: \n",
    "  filtereddata = [row for row in csv.reader(f) if row[1] == \"South Korea\"]"
   ]
  },
  {
   "cell_type": "code",
   "execution_count": 33,
   "metadata": {},
   "outputs": [
    {
     "name": "stdout",
     "output_type": "stream",
     "text": [
      "Using matplotlib backend: Qt5Agg\n"
     ]
    }
   ],
   "source": [
    "import pandas as pd\n",
    "import matplotlib.pyplot as plt\n",
    "import datetime as dt\n",
    "%matplotlib"
   ]
  },
  {
   "cell_type": "code",
   "execution_count": 34,
   "metadata": {},
   "outputs": [],
   "source": [
    "\n",
    "import pandas as pd\n",
    "import matplotlib.pyplot as plt\n",
    "import datetime as dt\n",
    "with open('owid-covid-data.csv', 'rt') as f: \n",
    "  filtereddata = [row for row in csv.reader(f)] \n",
    "\n"
   ]
  },
  {
   "cell_type": "code",
   "execution_count": 35,
   "metadata": {},
   "outputs": [],
   "source": [
    "sorteddata = sorted(filtereddata, key=operator.itemgetter(1))\n",
    "\n",
    "KORdeath = [row for row in sorteddata if row[0] == \"KOR\"]\n",
    "CHNdeath = [row for row in sorteddata if row[0] == \"CHN\"]\n",
    "JAPdeath = [row for row in sorteddata if row[0] == \"JPN\"]\n",
    "TIWdeath = [row for row in sorteddata if row[0] == \"TWN\"]"
   ]
  },
  {
   "cell_type": "code",
   "execution_count": 40,
   "metadata": {},
   "outputs": [],
   "source": [
    "k_x = [dt.datetime.strptime(row[2], '%Y-%m-%d').date() for \n",
    "       row in KORdeath] \n",
    "k_y = [row[5] for row in KORdeath] "
   ]
  },
  {
   "cell_type": "code",
   "execution_count": null,
   "metadata": {},
   "outputs": [],
   "source": [
    "c_x = [dt.datetime.strptime(row[2], '%Y-%m-%d').date() for \n",
    "       row in CHNdeath] \n",
    "c_y = [row[5] for row in CHNdeath] "
   ]
  },
  {
   "cell_type": "code",
   "execution_count": null,
   "metadata": {},
   "outputs": [],
   "source": [
    "j_x = [dt.datetime.strptime(row[2], '%Y-%m-%d').date() for\n",
    "       row in JAPdeath] \n",
    "j_y = [row[5] for row in JAPdeath]"
   ]
  },
  {
   "cell_type": "code",
   "execution_count": 41,
   "metadata": {},
   "outputs": [],
   "source": [
    "t_x = [dt.datetime.strptime(row[2], '%Y-%m-%d').date() for\n",
    "       row in TIWdeath] \n",
    "t_y = [row[5] for row in TIWdeath]"
   ]
  },
  {
   "cell_type": "code",
   "execution_count": 42,
   "metadata": {},
   "outputs": [
    {
     "name": "stderr",
     "output_type": "stream",
     "text": [
      "C:\\Users\\TJ\\anaconda3\\lib\\site-packages\\pandas\\plotting\\_matplotlib\\converter.py:103: FutureWarning: Using an implicitly registered datetime converter for a matplotlib plotting method. The converter was registered by pandas on import. Future versions of pandas will require you to explicitly register matplotlib converters.\n",
      "\n",
      "To register the converters:\n",
      "\t>>> from pandas.plotting import register_matplotlib_converters\n",
      "\t>>> register_matplotlib_converters()\n",
      "  warnings.warn(msg, FutureWarning)\n"
     ]
    }
   ],
   "source": [
    "plt.plot(k_x,k_y, color='red')\n",
    "plt.plot(c_x,c_y, color='orange') \n",
    "plt.plot(j_x,j_y, color='blue')\n",
    "plt.plot(t_x,t_y, color='green') \n",
    "plt.show()"
   ]
  },
  {
   "cell_type": "code",
   "execution_count": null,
   "metadata": {},
   "outputs": [],
   "source": []
  }
 ],
 "metadata": {
  "kernelspec": {
   "display_name": "Python 3",
   "language": "python",
   "name": "python3"
  },
  "language_info": {
   "codemirror_mode": {
    "name": "ipython",
    "version": 3
   },
   "file_extension": ".py",
   "mimetype": "text/x-python",
   "name": "python",
   "nbconvert_exporter": "python",
   "pygments_lexer": "ipython3",
   "version": "3.7.6"
  }
 },
 "nbformat": 4,
 "nbformat_minor": 4
}
